{
 "cells": [
  {
   "cell_type": "markdown",
   "metadata": {},
   "source": [
    "# Stumpy Quickstart"
   ]
  },
  {
   "cell_type": "markdown",
   "metadata": {},
   "source": [
    "https://github.com/TDAmeritrade/stumpy"
   ]
  },
  {
   "cell_type": "markdown",
   "metadata": {},
   "source": [
    "1-d time series data"
   ]
  },
  {
   "cell_type": "code",
   "execution_count": 2,
   "metadata": {},
   "outputs": [],
   "source": [
    "import stumpy\n",
    "import numpy as np\n",
    "\n",
    "your_time_series = np.random.rand(10000)\n",
    "window_size = 50  # Approximately, how many data points might be found in a pattern\n",
    "\n",
    "matrix_profile = stumpy.stump(your_time_series, m=window_size)"
   ]
  },
  {
   "cell_type": "markdown",
   "metadata": {},
   "source": [
    "Compute the matrix profile with parallelized STOMP\n",
    "\n",
    "This is a convenience wrapper around the Numba JIT-compiled parallelized _stump function which computes the matrix profile according to STOMP.\n",
    "\n",
    "Parameters:\t\n",
    "T_A (ndarray) – The time series or sequence for which to compute the matrix profile\n",
    "m (int) – Window size\n",
    "T_B (ndarray) – The time series or sequence that contain your query subsequences of interest. Default is None which corresponds to a self-join.\n",
    "ignore_trivial (bool) – Set to True if this is a self-join. Otherwise, for AB-join, set this to False. Default is True.\n",
    "\n",
    "Returns:\t\n",
    "out – The first column consists of the matrix profile, the second column consists of the matrix profile indices, the third column consists of the left matrix profile indices, and the fourth column consists of the right matrix profile indices.\n",
    "\n",
    "Return type:\t\n",
    "ndarray"
   ]
  },
  {
   "cell_type": "code",
   "execution_count": 7,
   "metadata": {},
   "outputs": [
    {
     "data": {
      "image/png": "[encoded data removed]",
      "text/plain": [
       "<Figure size 432x288 with 1 Axes>"
      ]
     },
     "metadata": {
      "needs_background": "light"
     },
     "output_type": "display_data"
    }
   ],
   "source": [
    "import pandas as pd\n",
    "import matplotlib.pyplot as plt\n",
    "plt.plot(your_time_series)\n",
    "plt.show()"
   ]
  },
  {
   "cell_type": "code",
   "execution_count": 9,
   "metadata": {},
   "outputs": [
    {
     "data": {
      "text/plain": [
       "(10000,)"
      ]
     },
     "execution_count": 9,
     "metadata": {},
     "output_type": "execute_result"
    }
   ],
   "source": [
    "your_time_series.shape"
   ]
  },
  {
   "cell_type": "code",
   "execution_count": 10,
   "metadata": {},
   "outputs": [
    {
     "data": {
      "text/plain": [
       "(9951, 4)"
      ]
     },
     "execution_count": 10,
     "metadata": {},
     "output_type": "execute_result"
    }
   ],
   "source": [
    "matrix_profile.shape"
   ]
  },
  {
   "cell_type": "code",
   "execution_count": 11,
   "metadata": {},
   "outputs": [
    {
     "data": {
      "text/plain": [
       "array([[7.099590166920847, 4450, -1, 4450],\n",
       "       [7.051401220444673, 4451, -1, 4451],\n",
       "       [6.796093910809183, 3479, -1, 3479],\n",
       "       ...,\n",
       "       [6.782590857080627, 6044, 6044, -1],\n",
       "       [6.786028009497459, 6045, 6045, -1],\n",
       "       [6.773096988678271, 6046, 6046, -1]], dtype=object)"
      ]
     },
     "execution_count": 11,
     "metadata": {},
     "output_type": "execute_result"
    }
   ],
   "source": [
    "matrix_profile"
   ]
  },
  {
   "cell_type": "code",
   "execution_count": 12,
   "metadata": {},
   "outputs": [],
   "source": [
    "new_ts = your_time_series = np.random.rand(10000)"
   ]
  },
  {
   "cell_type": "code",
   "execution_count": 15,
   "metadata": {},
   "outputs": [],
   "source": [
    "matrix_profile_2d = stumpy.stump(your_time_series, m=window_size, T_B=new_ts)"
   ]
  },
  {
   "cell_type": "code",
   "execution_count": 16,
   "metadata": {},
   "outputs": [
    {
     "data": {
      "text/plain": [
       "array([[6.430541709986033, 8194, -1, 8194],\n",
       "       [6.3467182705579726, 8195, -1, 8195],\n",
       "       [6.409056651001629, 5679, -1, 5679],\n",
       "       ...,\n",
       "       [6.822095542389946, 1455, 1455, -1],\n",
       "       [6.699058797517778, 1528, 1528, -1],\n",
       "       [6.745435777043628, 1529, 1529, -1]], dtype=object)"
      ]
     },
     "execution_count": 16,
     "metadata": {},
     "output_type": "execute_result"
    }
   ],
   "source": [
    "matrix_profile_2d"
   ]
  },
  {
   "cell_type": "code",
   "execution_count": 17,
   "metadata": {},
   "outputs": [
    {
     "data": {
      "text/plain": [
       "(9951, 4)"
      ]
     },
     "execution_count": 17,
     "metadata": {},
     "output_type": "execute_result"
    }
   ],
   "source": [
    "matrix_profile_2d.shape"
   ]
  },
  {
   "cell_type": "markdown",
   "metadata": {},
   "source": [
    "Multi-dimensional time series data with MSTUMP:"
   ]
  },
  {
   "cell_type": "markdown",
   "metadata": {},
   "source": [
    "Returns:\t\n",
    "P (ndarray) – The multi-dimensional matrix profile. Each column of the array corresponds to each matrix profile for a given dimension (i.e., the first column is the 1-D matrix profile and the second column is the 2-D matrix profile).\n",
    "I (ndarray) – The multi-dimensional matrix profile index where each column of the array corresponds to each matrix profile index for a given dimension."
   ]
  },
  {
   "cell_type": "code",
   "execution_count": 18,
   "metadata": {},
   "outputs": [],
   "source": [
    "import stumpy\n",
    "import numpy as np\n",
    "\n",
    "your_time_series = np.random.rand(3, 1000)  # Each row represents data from a different dimension while each column represents data from the same dimension\n",
    "window_size = 50  # Approximately, how many data points might be found in a pattern\n",
    "\n",
    "matrix_profile, matrix_profile_indices = stumpy.mstump(your_time_series, m=window_size)"
   ]
  },
  {
   "cell_type": "code",
   "execution_count": 23,
   "metadata": {},
   "outputs": [
    {
     "data": {
      "text/plain": [
       "array([[0.0407921 , 0.66999093, 0.63439916, ..., 0.80425073, 0.59514087,\n",
       "        0.03370564],\n",
       "       [0.41145228, 0.91651323, 0.35988005, ..., 0.27532332, 0.02092684,\n",
       "        0.18715073],\n",
       "       [0.03389262, 0.22283556, 0.80361876, ..., 0.04498554, 0.92831818,\n",
       "        0.37836665]])"
      ]
     },
     "execution_count": 23,
     "metadata": {},
     "output_type": "execute_result"
    }
   ],
   "source": [
    "your_time_series"
   ]
  },
  {
   "cell_type": "code",
   "execution_count": 19,
   "metadata": {},
   "outputs": [
    {
     "data": {
      "text/plain": [
       "array([[7.43830309, 7.99084632, 8.35737985],\n",
       "       [7.27933027, 8.07466857, 8.40340097],\n",
       "       [7.43970754, 8.26559562, 8.61308632],\n",
       "       ...,\n",
       "       [7.43722077, 8.24603811, 8.73102546],\n",
       "       [7.42237433, 8.23361287, 8.69520534],\n",
       "       [7.4218793 , 8.3456474 , 8.73421766]])"
      ]
     },
     "execution_count": 19,
     "metadata": {},
     "output_type": "execute_result"
    }
   ],
   "source": [
    "matrix_profile"
   ]
  },
  {
   "cell_type": "code",
   "execution_count": 20,
   "metadata": {},
   "outputs": [
    {
     "data": {
      "text/plain": [
       "(951, 3)"
      ]
     },
     "execution_count": 20,
     "metadata": {},
     "output_type": "execute_result"
    }
   ],
   "source": [
    "matrix_profile.shape"
   ]
  },
  {
   "cell_type": "markdown",
   "metadata": {},
   "source": [
    "Stumpy Intro Tutorial"
   ]
  },
  {
   "cell_type": "markdown",
   "metadata": {},
   "source": [
    "https://github.com/TDAmeritrade/stumpy/blob/master/docs/Tutorial_STUMPY_Basics.ipynb"
   ]
  },
  {
   "cell_type": "markdown",
   "metadata": {},
   "source": [
    "Stumpy Online Learning Tutorial"
   ]
  },
  {
   "cell_type": "markdown",
   "metadata": {},
   "source": [
    "https://readthedocs.org/projects/stumpy/downloads/pdf/latest/"
   ]
  },
  {
   "cell_type": "code",
   "execution_count": null,
   "metadata": {},
   "outputs": [],
   "source": []
  }
 ],
 "metadata": {
  "kernelspec": {
   "display_name": "Python 3",
   "language": "python",
   "name": "python3"
  },
  "language_info": {
   "codemirror_mode": {
    "name": "ipython",
    "version": 3
   },
   "file_extension": ".py",
   "mimetype": "text/x-python",
   "name": "python",
   "nbconvert_exporter": "python",
   "pygments_lexer": "ipython3",
   "version": "3.6.9"
  }
 },
 "nbformat": 4,
 "nbformat_minor": 4
}
